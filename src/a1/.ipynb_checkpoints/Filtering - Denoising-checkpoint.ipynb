{
 "cells": [
  {
   "cell_type": "code",
   "execution_count": 1,
   "metadata": {},
   "outputs": [],
   "source": [
    "import cv2\n",
    "import math\n",
    "\n",
    "noisy_img = cv2.imread('data/a1/gaussian_noise_peppers.png')\n",
    "denoised_gaussian_img = cv2.GaussianBlur(noisy_img, (7,7), math.sqrt(2))\n",
    "\n",
    "cv2.imshow('noisy', noisy_img)\n",
    "cv2.imshow('denoised gaussian', denoised_gaussian_img)"
   ]
  },
  {
   "cell_type": "code",
   "execution_count": 2,
   "metadata": {},
   "outputs": [],
   "source": [
    "denoised_box_img = cv2.boxFilter(noisy_img, 10, (7,7))\n",
    "cv2.imshow('denoised box', denoised_box_img)\n",
    "\n",
    "k = cv2.waitKey(0) & 0xFF\n",
    "if k == ord('s'):\n",
    "    cv2.destroyAllWindows()"
   ]
  },
  {
   "cell_type": "code",
   "execution_count": null,
   "metadata": {},
   "outputs": [],
   "source": []
  }
 ],
 "metadata": {
  "kernelspec": {
   "display_name": "Python 3",
   "language": "python",
   "name": "python3"
  },
  "language_info": {
   "codemirror_mode": {
    "name": "ipython",
    "version": 3
   },
   "file_extension": ".py",
   "mimetype": "text/x-python",
   "name": "python",
   "nbconvert_exporter": "python",
   "pygments_lexer": "ipython3",
   "version": "3.6.5"
  }
 },
 "nbformat": 4,
 "nbformat_minor": 2
}
