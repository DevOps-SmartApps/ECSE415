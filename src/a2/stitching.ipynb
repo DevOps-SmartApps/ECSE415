{
 "cells": [
  {
   "cell_type": "markdown",
   "metadata": {},
   "source": [
    "# ECSE415 - Intro to Computer Vision\n",
    "## Assignment 2\n",
    "### Alexander Harris - 260688155\n",
    "\n",
    "## Image Stitching\n",
    "### Coding Questions"
   ]
  },
  {
   "cell_type": "code",
   "execution_count": 6,
   "metadata": {},
   "outputs": [],
   "source": [
    "import cv2\n",
    "import numpy as np\n",
    "import matplotlib.pyplot as plt\n",
    "\n",
    "# Import images\n",
    "hill1 = cv2.imread('stitching_images/1Hill.JPG')\n",
    "hill2 = cv2.imread('stitching_images/2Hill.JPG')\n",
    "hill3 = cv2.imread('stitching_images/3Hill.JPG')\n",
    "\n",
    "hill1g = cv2.cvtColor(hill1, cv2.COLOR_BGR2GRAY)\n",
    "hill2g = cv2.cvtColor(hill2, cv2.COLOR_BGR2GRAY)\n",
    "hill3g = cv2.cvtColor(hill3, cv2.COLOR_BGR2GRAY)\n",
    "\n",
    "sift = cv2.xfeatures2d_SIFT.create()\n",
    "hill1_kp, hill1_des = sift.detectAndCompute(hill1g, None)\n",
    "hi\n"
   ]
  },
  {
   "cell_type": "code",
   "execution_count": null,
   "metadata": {},
   "outputs": [],
   "source": []
  }
 ],
 "metadata": {
  "kernelspec": {
   "display_name": "Python 3",
   "language": "python",
   "name": "python3"
  },
  "language_info": {
   "codemirror_mode": {
    "name": "ipython",
    "version": 3
   },
   "file_extension": ".py",
   "mimetype": "text/x-python",
   "name": "python",
   "nbconvert_exporter": "python",
   "pygments_lexer": "ipython3",
   "version": "3.6.5"
  }
 },
 "nbformat": 4,
 "nbformat_minor": 2
}
